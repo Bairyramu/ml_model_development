{
 "cells": [
  {
   "cell_type": "markdown",
   "metadata": {},
   "source": [
    "# Importing required packages"
   ]
  },
  {
   "cell_type": "code",
   "execution_count": 1,
   "metadata": {},
   "outputs": [],
   "source": [
    "import pandas as pd\n",
    "import numpy as np\n",
    "import matplotlib.pyplot as plt\n",
    "import seaborn as sns\n",
    "import pylab as pl\n",
    "import scipy.stats as stat\n",
    "from scipy.stats import boxcox\n",
    "from sklearn.model_selection import train_test_split as tts\n",
    "from sklearn.preprocessing import StandardScaler\n",
    "import tensorflow as tf\n",
    "from keras.models import Sequential\n",
    "from keras.layers import Dense,Dropout\n",
    "from sklearn.metrics import *"
   ]
  },
  {
   "cell_type": "code",
   "execution_count": 86,
   "metadata": {},
   "outputs": [],
   "source": [
    "data=pd.read_csv(\"iris.csv\").sample(frac=1)"
   ]
  },
  {
   "cell_type": "code",
   "execution_count": 87,
   "metadata": {},
   "outputs": [
    {
     "data": {
      "text/html": [
       "<div>\n",
       "<style scoped>\n",
       "    .dataframe tbody tr th:only-of-type {\n",
       "        vertical-align: middle;\n",
       "    }\n",
       "\n",
       "    .dataframe tbody tr th {\n",
       "        vertical-align: top;\n",
       "    }\n",
       "\n",
       "    .dataframe thead th {\n",
       "        text-align: right;\n",
       "    }\n",
       "</style>\n",
       "<table border=\"1\" class=\"dataframe\">\n",
       "  <thead>\n",
       "    <tr style=\"text-align: right;\">\n",
       "      <th></th>\n",
       "      <th>Id</th>\n",
       "      <th>SepalLengthCm</th>\n",
       "      <th>SepalWidthCm</th>\n",
       "      <th>PetalLengthCm</th>\n",
       "      <th>PetalWidthCm</th>\n",
       "      <th>Species</th>\n",
       "    </tr>\n",
       "  </thead>\n",
       "  <tbody>\n",
       "    <tr>\n",
       "      <th>0</th>\n",
       "      <td>1</td>\n",
       "      <td>5.1</td>\n",
       "      <td>3.5</td>\n",
       "      <td>1.4</td>\n",
       "      <td>0.2</td>\n",
       "      <td>Iris-setosa</td>\n",
       "    </tr>\n",
       "    <tr>\n",
       "      <th>75</th>\n",
       "      <td>76</td>\n",
       "      <td>6.6</td>\n",
       "      <td>3.0</td>\n",
       "      <td>4.4</td>\n",
       "      <td>1.4</td>\n",
       "      <td>Iris-versicolor</td>\n",
       "    </tr>\n",
       "    <tr>\n",
       "      <th>30</th>\n",
       "      <td>31</td>\n",
       "      <td>4.8</td>\n",
       "      <td>3.1</td>\n",
       "      <td>1.6</td>\n",
       "      <td>0.2</td>\n",
       "      <td>Iris-setosa</td>\n",
       "    </tr>\n",
       "    <tr>\n",
       "      <th>103</th>\n",
       "      <td>104</td>\n",
       "      <td>6.3</td>\n",
       "      <td>2.9</td>\n",
       "      <td>5.6</td>\n",
       "      <td>1.8</td>\n",
       "      <td>Iris-virginica</td>\n",
       "    </tr>\n",
       "    <tr>\n",
       "      <th>55</th>\n",
       "      <td>56</td>\n",
       "      <td>5.7</td>\n",
       "      <td>2.8</td>\n",
       "      <td>4.5</td>\n",
       "      <td>1.3</td>\n",
       "      <td>Iris-versicolor</td>\n",
       "    </tr>\n",
       "  </tbody>\n",
       "</table>\n",
       "</div>"
      ],
      "text/plain": [
       "      Id  SepalLengthCm  SepalWidthCm  PetalLengthCm  PetalWidthCm  \\\n",
       "0      1            5.1           3.5            1.4           0.2   \n",
       "75    76            6.6           3.0            4.4           1.4   \n",
       "30    31            4.8           3.1            1.6           0.2   \n",
       "103  104            6.3           2.9            5.6           1.8   \n",
       "55    56            5.7           2.8            4.5           1.3   \n",
       "\n",
       "             Species  \n",
       "0        Iris-setosa  \n",
       "75   Iris-versicolor  \n",
       "30       Iris-setosa  \n",
       "103   Iris-virginica  \n",
       "55   Iris-versicolor  "
      ]
     },
     "execution_count": 87,
     "metadata": {},
     "output_type": "execute_result"
    }
   ],
   "source": [
    "data.head()"
   ]
  },
  {
   "cell_type": "code",
   "execution_count": 88,
   "metadata": {},
   "outputs": [
    {
     "data": {
      "text/plain": [
       "<matplotlib.axes._subplots.AxesSubplot at 0x1950ca2e8b0>"
      ]
     },
     "execution_count": 88,
     "metadata": {},
     "output_type": "execute_result"
    },
    {
     "data": {
      "image/png": "[encoded data removed]",
      "text/plain": [
       "<Figure size 432x288 with 1 Axes>"
      ]
     },
     "metadata": {
      "needs_background": "light"
     },
     "output_type": "display_data"
    }
   ],
   "source": [
    "data[\"Species\"].value_counts().plot.bar()"
   ]
  },
  {
   "cell_type": "code",
   "execution_count": 89,
   "metadata": {},
   "outputs": [],
   "source": [
    "X=data.iloc[:,1:-1]\n",
    "y=pd.get_dummies(data[\"Species\"])"
   ]
  },
  {
   "cell_type": "markdown",
   "metadata": {},
   "source": [
    "# Q-Q plot"
   ]
  },
  {
   "cell_type": "code",
   "execution_count": 90,
   "metadata": {},
   "outputs": [],
   "source": [
    "def plot_data(df,feature):\n",
    "    print(\"Skewness of \"+feature+\" is\",df[feature].skew())\n",
    "    plt.figure(figsize=(10,6))\n",
    "    plt.subplot(1,2,1)\n",
    "    df[feature].hist()\n",
    "    pl.suptitle(feature)\n",
    "    plt.subplot(1,2,2)\n",
    "    stat.probplot(df[feature],dist='norm',plot=pl)\n",
    "    plt.show()"
   ]
  },
  {
   "cell_type": "code",
   "execution_count": 127,
   "metadata": {},
   "outputs": [
    {
     "name": "stdout",
     "output_type": "stream",
     "text": [
      "Skewness of SepalLengthCm is 0.3149109566369727\n"
     ]
    },
    {
     "data": {
      "image/png": "[encoded data removed]",
      "text/plain": [
       "<Figure size 720x432 with 2 Axes>"
      ]
     },
     "metadata": {
      "needs_background": "light"
     },
     "output_type": "display_data"
    },
    {
     "name": "stdout",
     "output_type": "stream",
     "text": [
      "Skewness of SepalWidthCm is 0.33405266217208657\n"
     ]
    },
    {
     "data": {
      "image/png": "[encoded data removed]",
      "text/plain": [
       "<Figure size 720x432 with 2 Axes>"
      ]
     },
     "metadata": {
      "needs_background": "light"
     },
     "output_type": "display_data"
    },
    {
     "name": "stdout",
     "output_type": "stream",
     "text": [
      "Skewness of PetalLengthCm is -0.2744642524737827\n"
     ]
    },
    {
     "data": {
      "image/png": "[encoded data removed]",
      "text/plain": [
       "<Figure size 720x432 with 2 Axes>"
      ]
     },
     "metadata": {
      "needs_background": "light"
     },
     "output_type": "display_data"
    },
    {
     "name": "stdout",
     "output_type": "stream",
     "text": [
      "Skewness of PetalWidthCm is -0.10499656214412727\n"
     ]
    },
    {
     "data": {
      "image/png": "[encoded data removed]",
      "text/plain": [
       "<Figure size 720x432 with 2 Axes>"
      ]
     },
     "metadata": {
      "needs_background": "light"
     },
     "output_type": "display_data"
    }
   ],
   "source": [
    "for column in X.columns:\n",
    "    plot_data(X,column)"
   ]
  },
  {
   "cell_type": "markdown",
   "metadata": {},
   "source": [
    "# Spliting the train and test"
   ]
  },
  {
   "cell_type": "code",
   "execution_count": 92,
   "metadata": {},
   "outputs": [],
   "source": [
    "X_train,X_test,y_train,y_test=tts(X,y,test_size=0.3,random_state=41)"
   ]
  },
  {
   "cell_type": "code",
   "execution_count": 93,
   "metadata": {},
   "outputs": [],
   "source": [
    "sc=StandardScaler()\n",
    "X_train=sc.fit_transform(X_train)\n",
    "X_test=sc.transform(X_test)"
   ]
  },
  {
   "cell_type": "code",
   "execution_count": 94,
   "metadata": {},
   "outputs": [],
   "source": [
    "from tensorflow.keras import regularizers"
   ]
  },
  {
   "cell_type": "markdown",
   "metadata": {},
   "source": [
    "# model developing"
   ]
  },
  {
   "cell_type": "code",
   "execution_count": 95,
   "metadata": {},
   "outputs": [],
   "source": [
    "opt = tf.keras.optimizers.Adam(learning_rate=0.0008,beta_1=0.95)"
   ]
  },
  {
   "cell_type": "code",
   "execution_count": 107,
   "metadata": {},
   "outputs": [],
   "source": [
    "model = Sequential()\n",
    "model.add(Dense(10, input_dim=4, activation='relu'))\n",
    "model.add(Dense(20, activation='relu'))\n",
    "model.add(Dense(10, activation='relu'))\n",
    "model.add(Dense(3, activation='softmax'))"
   ]
  },
  {
   "cell_type": "code",
   "execution_count": 108,
   "metadata": {},
   "outputs": [],
   "source": [
    "model.compile(loss='categorical_crossentropy', optimizer=opt, metrics=['accuracy'])"
   ]
  },
  {
   "cell_type": "code",
   "execution_count": 109,
   "metadata": {},
   "outputs": [
    {
     "name": "stdout",
     "output_type": "stream",
     "text": [
      "Epoch 1/200\n",
      "21/21 [==============================] - 1s 30ms/step - loss: 1.1014 - accuracy: 0.3714 - val_loss: 0.9716 - val_accuracy: 0.6000\n",
      "Epoch 2/200\n",
      "21/21 [==============================] - 0s 6ms/step - loss: 0.8671 - accuracy: 0.7524 - val_loss: 0.7611 - val_accuracy: 0.7111\n",
      "Epoch 3/200\n",
      "21/21 [==============================] - 0s 6ms/step - loss: 0.6372 - accuracy: 0.7905 - val_loss: 0.5589 - val_accuracy: 0.7556\n",
      "Epoch 4/200\n",
      "21/21 [==============================] - 0s 5ms/step - loss: 0.4605 - accuracy: 0.8095 - val_loss: 0.4748 - val_accuracy: 0.7556\n",
      "Epoch 5/200\n",
      "21/21 [==============================] - 0s 6ms/step - loss: 0.3819 - accuracy: 0.8381 - val_loss: 0.4408 - val_accuracy: 0.7333\n",
      "Epoch 6/200\n",
      "21/21 [==============================] - 0s 5ms/step - loss: 0.3425 - accuracy: 0.8571 - val_loss: 0.4175 - val_accuracy: 0.7333\n",
      "Epoch 7/200\n",
      "21/21 [==============================] - 0s 5ms/step - loss: 0.3249 - accuracy: 0.8571 - val_loss: 0.3916 - val_accuracy: 0.7556\n",
      "Epoch 8/200\n",
      "21/21 [==============================] - 0s 5ms/step - loss: 0.3045 - accuracy: 0.8476 - val_loss: 0.3975 - val_accuracy: 0.7778\n",
      "Epoch 9/200\n",
      "21/21 [==============================] - 0s 5ms/step - loss: 0.2813 - accuracy: 0.8762 - val_loss: 0.3589 - val_accuracy: 0.7778\n",
      "Epoch 10/200\n",
      "21/21 [==============================] - 0s 5ms/step - loss: 0.2638 - accuracy: 0.8762 - val_loss: 0.3127 - val_accuracy: 0.8222\n",
      "Epoch 11/200\n",
      "21/21 [==============================] - 0s 6ms/step - loss: 0.2428 - accuracy: 0.9048 - val_loss: 0.2990 - val_accuracy: 0.8222\n",
      "Epoch 12/200\n",
      "21/21 [==============================] - 0s 6ms/step - loss: 0.2243 - accuracy: 0.9143 - val_loss: 0.2782 - val_accuracy: 0.8444\n",
      "Epoch 13/200\n",
      "21/21 [==============================] - 0s 5ms/step - loss: 0.2073 - accuracy: 0.9143 - val_loss: 0.2580 - val_accuracy: 0.8667\n",
      "Epoch 14/200\n",
      "21/21 [==============================] - 0s 5ms/step - loss: 0.1914 - accuracy: 0.9429 - val_loss: 0.2189 - val_accuracy: 0.9556\n",
      "Epoch 15/200\n",
      "21/21 [==============================] - 0s 5ms/step - loss: 0.1790 - accuracy: 0.9429 - val_loss: 0.1919 - val_accuracy: 0.9778\n",
      "Epoch 16/200\n",
      "21/21 [==============================] - 0s 5ms/step - loss: 0.1625 - accuracy: 0.9429 - val_loss: 0.1889 - val_accuracy: 0.9778\n",
      "Epoch 17/200\n",
      "21/21 [==============================] - 0s 6ms/step - loss: 0.1503 - accuracy: 0.9524 - val_loss: 0.1568 - val_accuracy: 0.9778\n",
      "Epoch 18/200\n",
      "21/21 [==============================] - 0s 6ms/step - loss: 0.1398 - accuracy: 0.9714 - val_loss: 0.1365 - val_accuracy: 0.9778\n",
      "Epoch 19/200\n",
      "21/21 [==============================] - 0s 6ms/step - loss: 0.1285 - accuracy: 0.9714 - val_loss: 0.1234 - val_accuracy: 0.9778\n",
      "Epoch 20/200\n",
      "21/21 [==============================] - 0s 6ms/step - loss: 0.1208 - accuracy: 0.9524 - val_loss: 0.1206 - val_accuracy: 0.9778\n",
      "Epoch 21/200\n",
      "21/21 [==============================] - 0s 8ms/step - loss: 0.1088 - accuracy: 0.9714 - val_loss: 0.0948 - val_accuracy: 0.9778\n",
      "Epoch 22/200\n",
      "21/21 [==============================] - 0s 7ms/step - loss: 0.1031 - accuracy: 0.9714 - val_loss: 0.0916 - val_accuracy: 0.9778\n",
      "Epoch 23/200\n",
      "21/21 [==============================] - 0s 5ms/step - loss: 0.0977 - accuracy: 0.9619 - val_loss: 0.0931 - val_accuracy: 0.9778\n",
      "Epoch 24/200\n",
      "21/21 [==============================] - 0s 5ms/step - loss: 0.0938 - accuracy: 0.9714 - val_loss: 0.0740 - val_accuracy: 0.9778\n",
      "Epoch 25/200\n",
      "21/21 [==============================] - 0s 4ms/step - loss: 0.0896 - accuracy: 0.9714 - val_loss: 0.0795 - val_accuracy: 0.9778\n",
      "Epoch 26/200\n",
      "21/21 [==============================] - 0s 6ms/step - loss: 0.0844 - accuracy: 0.9714 - val_loss: 0.0684 - val_accuracy: 0.9778\n",
      "Epoch 27/200\n",
      "21/21 [==============================] - 0s 6ms/step - loss: 0.0801 - accuracy: 0.9714 - val_loss: 0.0723 - val_accuracy: 0.9778\n",
      "Epoch 28/200\n",
      "21/21 [==============================] - 0s 5ms/step - loss: 0.0785 - accuracy: 0.9810 - val_loss: 0.0654 - val_accuracy: 0.9778\n",
      "Epoch 29/200\n",
      "21/21 [==============================] - 0s 6ms/step - loss: 0.0747 - accuracy: 0.9810 - val_loss: 0.0629 - val_accuracy: 0.9778\n",
      "Epoch 30/200\n",
      "21/21 [==============================] - 0s 5ms/step - loss: 0.0736 - accuracy: 0.9810 - val_loss: 0.0680 - val_accuracy: 0.9778\n",
      "Epoch 31/200\n",
      "21/21 [==============================] - 0s 6ms/step - loss: 0.0735 - accuracy: 0.9810 - val_loss: 0.0594 - val_accuracy: 0.9778\n",
      "Epoch 32/200\n",
      "21/21 [==============================] - 0s 7ms/step - loss: 0.0689 - accuracy: 0.9810 - val_loss: 0.0577 - val_accuracy: 0.9778\n",
      "Epoch 33/200\n",
      "21/21 [==============================] - 0s 5ms/step - loss: 0.0682 - accuracy: 0.9810 - val_loss: 0.0590 - val_accuracy: 0.9778\n",
      "Epoch 34/200\n",
      "21/21 [==============================] - 0s 6ms/step - loss: 0.0670 - accuracy: 0.9810 - val_loss: 0.0585 - val_accuracy: 0.9778\n",
      "Epoch 35/200\n",
      "21/21 [==============================] - 0s 6ms/step - loss: 0.0672 - accuracy: 0.9810 - val_loss: 0.0585 - val_accuracy: 0.9778\n",
      "Epoch 36/200\n",
      "21/21 [==============================] - 0s 6ms/step - loss: 0.0640 - accuracy: 0.9810 - val_loss: 0.0519 - val_accuracy: 0.9778\n",
      "Epoch 37/200\n",
      "21/21 [==============================] - ETA: 0s - loss: 0.0698 - accuracy: 0.97 - 0s 8ms/step - loss: 0.0648 - accuracy: 0.9810 - val_loss: 0.0551 - val_accuracy: 0.9778\n",
      "Epoch 38/200\n",
      "21/21 [==============================] - 0s 5ms/step - loss: 0.0626 - accuracy: 0.9810 - val_loss: 0.0557 - val_accuracy: 0.9778\n",
      "Epoch 39/200\n",
      "21/21 [==============================] - 0s 5ms/step - loss: 0.0675 - accuracy: 0.9810 - val_loss: 0.0495 - val_accuracy: 0.9778\n",
      "Epoch 40/200\n",
      "21/21 [==============================] - 0s 5ms/step - loss: 0.0624 - accuracy: 0.9810 - val_loss: 0.0683 - val_accuracy: 0.9778\n",
      "Epoch 41/200\n",
      "21/21 [==============================] - 0s 5ms/step - loss: 0.0620 - accuracy: 0.9810 - val_loss: 0.0527 - val_accuracy: 0.9778\n",
      "Epoch 42/200\n",
      "21/21 [==============================] - 0s 6ms/step - loss: 0.0612 - accuracy: 0.9714 - val_loss: 0.0468 - val_accuracy: 0.9778\n",
      "Epoch 43/200\n",
      "21/21 [==============================] - 0s 6ms/step - loss: 0.0670 - accuracy: 0.9810 - val_loss: 0.0688 - val_accuracy: 0.9778\n",
      "Epoch 44/200\n",
      "21/21 [==============================] - 0s 6ms/step - loss: 0.0589 - accuracy: 0.9810 - val_loss: 0.0486 - val_accuracy: 0.9778\n",
      "Epoch 45/200\n",
      "21/21 [==============================] - 0s 8ms/step - loss: 0.0565 - accuracy: 0.9810 - val_loss: 0.0495 - val_accuracy: 0.9778\n",
      "Epoch 46/200\n",
      "21/21 [==============================] - 0s 5ms/step - loss: 0.0554 - accuracy: 0.9810 - val_loss: 0.0518 - val_accuracy: 0.9778\n",
      "Epoch 47/200\n",
      "21/21 [==============================] - ETA: 0s - loss: 0.0664 - accuracy: 0.97 - 0s 8ms/step - loss: 0.0583 - accuracy: 0.9810 - val_loss: 0.0501 - val_accuracy: 0.9778\n",
      "Epoch 48/200\n",
      "21/21 [==============================] - 0s 6ms/step - loss: 0.0544 - accuracy: 0.9810 - val_loss: 0.0589 - val_accuracy: 0.9778\n",
      "Epoch 49/200\n",
      "21/21 [==============================] - 0s 6ms/step - loss: 0.0551 - accuracy: 0.9905 - val_loss: 0.0564 - val_accuracy: 0.9778\n",
      "Epoch 50/200\n",
      "21/21 [==============================] - 0s 8ms/step - loss: 0.0527 - accuracy: 0.9810 - val_loss: 0.0486 - val_accuracy: 0.9778\n",
      "Epoch 51/200\n",
      "21/21 [==============================] - 0s 6ms/step - loss: 0.0528 - accuracy: 0.9810 - val_loss: 0.0491 - val_accuracy: 0.9778\n",
      "Epoch 52/200\n",
      "21/21 [==============================] - 0s 6ms/step - loss: 0.0539 - accuracy: 0.9810 - val_loss: 0.0502 - val_accuracy: 0.9778\n",
      "Epoch 53/200\n",
      "21/21 [==============================] - 0s 5ms/step - loss: 0.0580 - accuracy: 0.9810 - val_loss: 0.0608 - val_accuracy: 0.9778\n",
      "Epoch 54/200\n",
      "21/21 [==============================] - 0s 5ms/step - loss: 0.0514 - accuracy: 0.9810 - val_loss: 0.0477 - val_accuracy: 0.9778\n",
      "Epoch 55/200\n",
      "21/21 [==============================] - 0s 5ms/step - loss: 0.0512 - accuracy: 0.9810 - val_loss: 0.0474 - val_accuracy: 0.9778\n",
      "Epoch 56/200\n",
      "21/21 [==============================] - 0s 7ms/step - loss: 0.0491 - accuracy: 0.9810 - val_loss: 0.0483 - val_accuracy: 0.9778\n",
      "Epoch 57/200\n",
      "21/21 [==============================] - 0s 8ms/step - loss: 0.0519 - accuracy: 0.9810 - val_loss: 0.0559 - val_accuracy: 0.9778\n",
      "Epoch 58/200\n"
     ]
    },
    {
     "name": "stdout",
     "output_type": "stream",
     "text": [
      "21/21 [==============================] - 0s 5ms/step - loss: 0.0483 - accuracy: 0.9810 - val_loss: 0.0505 - val_accuracy: 0.9778\n",
      "Epoch 59/200\n",
      "21/21 [==============================] - 0s 6ms/step - loss: 0.0480 - accuracy: 0.9810 - val_loss: 0.0496 - val_accuracy: 0.9778\n",
      "Epoch 60/200\n",
      "21/21 [==============================] - 0s 5ms/step - loss: 0.0477 - accuracy: 0.9810 - val_loss: 0.0507 - val_accuracy: 0.9778\n",
      "Epoch 61/200\n",
      "21/21 [==============================] - 0s 5ms/step - loss: 0.0473 - accuracy: 0.9810 - val_loss: 0.0520 - val_accuracy: 0.9778\n",
      "Epoch 62/200\n",
      "21/21 [==============================] - 0s 5ms/step - loss: 0.0469 - accuracy: 0.9810 - val_loss: 0.0521 - val_accuracy: 0.9778\n",
      "Epoch 63/200\n",
      "21/21 [==============================] - 0s 6ms/step - loss: 0.0469 - accuracy: 0.9810 - val_loss: 0.0531 - val_accuracy: 0.9778\n",
      "Epoch 64/200\n",
      "21/21 [==============================] - 0s 6ms/step - loss: 0.0481 - accuracy: 0.9810 - val_loss: 0.0480 - val_accuracy: 0.9778\n",
      "Epoch 65/200\n",
      "21/21 [==============================] - 0s 5ms/step - loss: 0.0467 - accuracy: 0.9810 - val_loss: 0.0511 - val_accuracy: 0.9778\n",
      "Epoch 66/200\n",
      "21/21 [==============================] - 0s 7ms/step - loss: 0.0452 - accuracy: 0.9810 - val_loss: 0.0530 - val_accuracy: 0.9778\n",
      "Epoch 67/200\n",
      "21/21 [==============================] - 0s 6ms/step - loss: 0.0458 - accuracy: 0.9810 - val_loss: 0.0518 - val_accuracy: 0.9778\n",
      "Epoch 68/200\n",
      "21/21 [==============================] - 0s 6ms/step - loss: 0.0444 - accuracy: 0.9810 - val_loss: 0.0509 - val_accuracy: 0.9778\n",
      "Epoch 69/200\n",
      "21/21 [==============================] - 0s 6ms/step - loss: 0.0445 - accuracy: 0.9810 - val_loss: 0.0504 - val_accuracy: 0.9778\n",
      "Epoch 70/200\n",
      "21/21 [==============================] - 0s 5ms/step - loss: 0.0439 - accuracy: 0.9810 - val_loss: 0.0476 - val_accuracy: 0.9778\n",
      "Epoch 71/200\n",
      "21/21 [==============================] - 0s 5ms/step - loss: 0.0443 - accuracy: 0.9810 - val_loss: 0.0504 - val_accuracy: 0.9778\n",
      "Epoch 72/200\n",
      "21/21 [==============================] - 0s 5ms/step - loss: 0.0444 - accuracy: 0.9810 - val_loss: 0.0503 - val_accuracy: 0.9778\n",
      "Epoch 73/200\n",
      "21/21 [==============================] - 0s 5ms/step - loss: 0.0433 - accuracy: 0.9810 - val_loss: 0.0499 - val_accuracy: 0.9778\n",
      "Epoch 74/200\n",
      "21/21 [==============================] - 0s 5ms/step - loss: 0.0433 - accuracy: 0.9810 - val_loss: 0.0491 - val_accuracy: 0.9778\n",
      "Epoch 75/200\n",
      "21/21 [==============================] - 0s 5ms/step - loss: 0.0444 - accuracy: 0.9810 - val_loss: 0.0485 - val_accuracy: 0.9778\n",
      "Epoch 76/200\n",
      "21/21 [==============================] - 0s 5ms/step - loss: 0.0436 - accuracy: 0.9905 - val_loss: 0.0615 - val_accuracy: 0.9778\n",
      "Epoch 77/200\n",
      "21/21 [==============================] - 0s 5ms/step - loss: 0.0431 - accuracy: 0.9905 - val_loss: 0.0541 - val_accuracy: 0.9778\n",
      "Epoch 78/200\n",
      "21/21 [==============================] - 0s 5ms/step - loss: 0.0429 - accuracy: 0.9810 - val_loss: 0.0453 - val_accuracy: 0.9778\n",
      "Epoch 79/200\n",
      "21/21 [==============================] - 0s 5ms/step - loss: 0.0448 - accuracy: 0.9810 - val_loss: 0.0542 - val_accuracy: 0.9778\n",
      "Epoch 80/200\n",
      "21/21 [==============================] - 0s 5ms/step - loss: 0.0410 - accuracy: 0.9905 - val_loss: 0.0497 - val_accuracy: 0.9778\n",
      "Epoch 81/200\n",
      "21/21 [==============================] - 0s 5ms/step - loss: 0.0418 - accuracy: 0.9810 - val_loss: 0.0444 - val_accuracy: 0.9778\n",
      "Epoch 82/200\n",
      "21/21 [==============================] - 0s 5ms/step - loss: 0.0439 - accuracy: 0.9905 - val_loss: 0.0560 - val_accuracy: 0.9778\n",
      "Epoch 83/200\n",
      "21/21 [==============================] - 0s 6ms/step - loss: 0.0405 - accuracy: 0.9905 - val_loss: 0.0520 - val_accuracy: 0.9778\n",
      "Epoch 84/200\n",
      "21/21 [==============================] - 0s 6ms/step - loss: 0.0405 - accuracy: 0.9810 - val_loss: 0.0513 - val_accuracy: 0.9778\n",
      "Epoch 85/200\n",
      "21/21 [==============================] - 0s 5ms/step - loss: 0.0407 - accuracy: 0.9810 - val_loss: 0.0525 - val_accuracy: 0.9778\n",
      "Epoch 86/200\n",
      "21/21 [==============================] - 0s 6ms/step - loss: 0.0390 - accuracy: 0.9905 - val_loss: 0.0536 - val_accuracy: 0.9778\n",
      "Epoch 87/200\n",
      "21/21 [==============================] - 0s 6ms/step - loss: 0.0396 - accuracy: 0.9905 - val_loss: 0.0509 - val_accuracy: 0.9778\n",
      "Epoch 88/200\n",
      "21/21 [==============================] - 0s 5ms/step - loss: 0.0399 - accuracy: 0.9905 - val_loss: 0.0494 - val_accuracy: 0.9778\n",
      "Epoch 89/200\n",
      "21/21 [==============================] - 0s 5ms/step - loss: 0.0413 - accuracy: 0.9810 - val_loss: 0.0521 - val_accuracy: 0.9778\n",
      "Epoch 90/200\n",
      "21/21 [==============================] - 0s 5ms/step - loss: 0.0432 - accuracy: 0.9810 - val_loss: 0.0600 - val_accuracy: 0.9778\n",
      "Epoch 91/200\n",
      "21/21 [==============================] - 0s 7ms/step - loss: 0.0397 - accuracy: 0.9810 - val_loss: 0.0487 - val_accuracy: 0.9778\n",
      "Epoch 92/200\n",
      "21/21 [==============================] - 0s 6ms/step - loss: 0.0396 - accuracy: 0.9810 - val_loss: 0.0480 - val_accuracy: 0.9778\n",
      "Epoch 93/200\n",
      "21/21 [==============================] - 0s 7ms/step - loss: 0.0379 - accuracy: 0.9905 - val_loss: 0.0533 - val_accuracy: 0.9778\n",
      "Epoch 94/200\n",
      "21/21 [==============================] - 0s 5ms/step - loss: 0.0389 - accuracy: 0.9905 - val_loss: 0.0578 - val_accuracy: 0.9778\n",
      "Epoch 95/200\n",
      "21/21 [==============================] - 0s 5ms/step - loss: 0.0410 - accuracy: 0.9810 - val_loss: 0.0505 - val_accuracy: 0.9778\n",
      "Epoch 96/200\n",
      "21/21 [==============================] - 0s 6ms/step - loss: 0.0390 - accuracy: 0.9905 - val_loss: 0.0585 - val_accuracy: 0.9778\n",
      "Epoch 97/200\n",
      "21/21 [==============================] - 0s 5ms/step - loss: 0.0382 - accuracy: 0.9810 - val_loss: 0.0502 - val_accuracy: 0.9778\n",
      "Epoch 98/200\n",
      "21/21 [==============================] - 0s 6ms/step - loss: 0.0376 - accuracy: 0.9810 - val_loss: 0.0517 - val_accuracy: 0.9778\n",
      "Epoch 99/200\n",
      "21/21 [==============================] - 0s 7ms/step - loss: 0.0375 - accuracy: 0.9905 - val_loss: 0.0569 - val_accuracy: 0.9778\n",
      "Epoch 100/200\n",
      "21/21 [==============================] - 0s 6ms/step - loss: 0.0358 - accuracy: 0.9905 - val_loss: 0.0506 - val_accuracy: 0.9778\n",
      "Epoch 101/200\n",
      "21/21 [==============================] - 0s 7ms/step - loss: 0.0368 - accuracy: 0.9810 - val_loss: 0.0522 - val_accuracy: 0.9778\n",
      "Epoch 102/200\n",
      "21/21 [==============================] - 0s 5ms/step - loss: 0.0358 - accuracy: 0.9905 - val_loss: 0.0536 - val_accuracy: 0.9778\n",
      "Epoch 103/200\n",
      "21/21 [==============================] - 0s 7ms/step - loss: 0.0353 - accuracy: 0.9905 - val_loss: 0.0520 - val_accuracy: 0.9778\n",
      "Epoch 104/200\n",
      "21/21 [==============================] - 0s 5ms/step - loss: 0.0349 - accuracy: 0.9905 - val_loss: 0.0527 - val_accuracy: 0.9778\n",
      "Epoch 105/200\n",
      "21/21 [==============================] - 0s 5ms/step - loss: 0.0370 - accuracy: 0.9905 - val_loss: 0.0610 - val_accuracy: 0.9778\n",
      "Epoch 106/200\n",
      "21/21 [==============================] - 0s 7ms/step - loss: 0.0341 - accuracy: 0.9905 - val_loss: 0.0543 - val_accuracy: 0.9778\n",
      "Epoch 107/200\n",
      "21/21 [==============================] - 0s 7ms/step - loss: 0.0370 - accuracy: 0.9810 - val_loss: 0.0507 - val_accuracy: 0.9778\n",
      "Epoch 108/200\n",
      "21/21 [==============================] - 0s 6ms/step - loss: 0.0377 - accuracy: 0.9905 - val_loss: 0.0595 - val_accuracy: 0.9778\n",
      "Epoch 109/200\n",
      "21/21 [==============================] - 0s 5ms/step - loss: 0.0336 - accuracy: 0.9905 - val_loss: 0.0546 - val_accuracy: 0.9778\n",
      "Epoch 110/200\n",
      "21/21 [==============================] - 0s 6ms/step - loss: 0.0336 - accuracy: 0.9905 - val_loss: 0.0532 - val_accuracy: 0.9778\n",
      "Epoch 111/200\n",
      "21/21 [==============================] - 0s 6ms/step - loss: 0.0341 - accuracy: 0.9810 - val_loss: 0.0531 - val_accuracy: 0.9778\n",
      "Epoch 112/200\n",
      "21/21 [==============================] - 0s 6ms/step - loss: 0.0332 - accuracy: 0.9810 - val_loss: 0.0565 - val_accuracy: 0.9778\n",
      "Epoch 113/200\n",
      "21/21 [==============================] - 0s 6ms/step - loss: 0.0334 - accuracy: 0.9905 - val_loss: 0.0583 - val_accuracy: 0.9778\n",
      "Epoch 114/200\n",
      "21/21 [==============================] - 0s 7ms/step - loss: 0.0331 - accuracy: 0.9905 - val_loss: 0.0585 - val_accuracy: 0.9778\n",
      "Epoch 115/200\n"
     ]
    },
    {
     "name": "stdout",
     "output_type": "stream",
     "text": [
      "21/21 [==============================] - 0s 6ms/step - loss: 0.0338 - accuracy: 0.9905 - val_loss: 0.0596 - val_accuracy: 0.9778\n",
      "Epoch 116/200\n",
      "21/21 [==============================] - 0s 5ms/step - loss: 0.0339 - accuracy: 0.9905 - val_loss: 0.0490 - val_accuracy: 0.9778\n",
      "Epoch 117/200\n",
      "21/21 [==============================] - 0s 6ms/step - loss: 0.0339 - accuracy: 0.9905 - val_loss: 0.0621 - val_accuracy: 0.9778\n",
      "Epoch 118/200\n",
      "21/21 [==============================] - 0s 5ms/step - loss: 0.0335 - accuracy: 0.9905 - val_loss: 0.0616 - val_accuracy: 0.9778\n",
      "Epoch 119/200\n",
      "21/21 [==============================] - 0s 6ms/step - loss: 0.0310 - accuracy: 0.9905 - val_loss: 0.0582 - val_accuracy: 0.9778\n",
      "Epoch 120/200\n",
      "21/21 [==============================] - 0s 6ms/step - loss: 0.0315 - accuracy: 0.9905 - val_loss: 0.0533 - val_accuracy: 0.9778\n",
      "Epoch 121/200\n",
      "21/21 [==============================] - 0s 7ms/step - loss: 0.0313 - accuracy: 0.9905 - val_loss: 0.0555 - val_accuracy: 0.9778\n",
      "Epoch 122/200\n",
      "21/21 [==============================] - 0s 6ms/step - loss: 0.0337 - accuracy: 0.9810 - val_loss: 0.0552 - val_accuracy: 0.9778\n",
      "Epoch 123/200\n",
      "21/21 [==============================] - 0s 7ms/step - loss: 0.0296 - accuracy: 0.9905 - val_loss: 0.0646 - val_accuracy: 0.9778\n",
      "Epoch 124/200\n",
      "21/21 [==============================] - 0s 5ms/step - loss: 0.0310 - accuracy: 0.9905 - val_loss: 0.0641 - val_accuracy: 0.9778\n",
      "Epoch 125/200\n",
      "21/21 [==============================] - 0s 6ms/step - loss: 0.0304 - accuracy: 0.9905 - val_loss: 0.0616 - val_accuracy: 0.9778\n",
      "Epoch 126/200\n",
      "21/21 [==============================] - 0s 6ms/step - loss: 0.0300 - accuracy: 0.9905 - val_loss: 0.0562 - val_accuracy: 0.9778\n",
      "Epoch 127/200\n",
      "21/21 [==============================] - 0s 5ms/step - loss: 0.0308 - accuracy: 0.9905 - val_loss: 0.0565 - val_accuracy: 0.9778\n",
      "Epoch 128/200\n",
      "21/21 [==============================] - 0s 6ms/step - loss: 0.0309 - accuracy: 0.9905 - val_loss: 0.0647 - val_accuracy: 0.9778\n",
      "Epoch 129/200\n",
      "21/21 [==============================] - 0s 6ms/step - loss: 0.0331 - accuracy: 0.9905 - val_loss: 0.0561 - val_accuracy: 0.9778\n",
      "Epoch 130/200\n",
      "21/21 [==============================] - 0s 8ms/step - loss: 0.0286 - accuracy: 0.9905 - val_loss: 0.0639 - val_accuracy: 0.9778\n",
      "Epoch 131/200\n",
      "21/21 [==============================] - 0s 6ms/step - loss: 0.0291 - accuracy: 0.9905 - val_loss: 0.0644 - val_accuracy: 0.9778\n",
      "Epoch 132/200\n",
      "21/21 [==============================] - 0s 5ms/step - loss: 0.0291 - accuracy: 0.9905 - val_loss: 0.0612 - val_accuracy: 0.9778\n",
      "Epoch 133/200\n",
      "21/21 [==============================] - 0s 6ms/step - loss: 0.0283 - accuracy: 0.9905 - val_loss: 0.0580 - val_accuracy: 0.9778\n",
      "Epoch 134/200\n",
      "21/21 [==============================] - 0s 6ms/step - loss: 0.0287 - accuracy: 0.9905 - val_loss: 0.0613 - val_accuracy: 0.9778\n",
      "Epoch 135/200\n",
      "21/21 [==============================] - 0s 5ms/step - loss: 0.0278 - accuracy: 0.9905 - val_loss: 0.0668 - val_accuracy: 0.9778\n",
      "Epoch 136/200\n",
      "21/21 [==============================] - 0s 6ms/step - loss: 0.0280 - accuracy: 0.9905 - val_loss: 0.0620 - val_accuracy: 0.9778\n",
      "Epoch 137/200\n",
      "21/21 [==============================] - 0s 6ms/step - loss: 0.0317 - accuracy: 0.9905 - val_loss: 0.0649 - val_accuracy: 0.9778\n",
      "Epoch 138/200\n",
      "21/21 [==============================] - 0s 5ms/step - loss: 0.0273 - accuracy: 0.9905 - val_loss: 0.0545 - val_accuracy: 0.9778\n",
      "Epoch 139/200\n",
      "21/21 [==============================] - 0s 7ms/step - loss: 0.0277 - accuracy: 0.9905 - val_loss: 0.0564 - val_accuracy: 0.9778\n",
      "Epoch 140/200\n",
      "21/21 [==============================] - 0s 5ms/step - loss: 0.0271 - accuracy: 0.9905 - val_loss: 0.0612 - val_accuracy: 0.9778\n",
      "Epoch 141/200\n",
      "21/21 [==============================] - 0s 5ms/step - loss: 0.0266 - accuracy: 0.9905 - val_loss: 0.0658 - val_accuracy: 0.9778\n",
      "Epoch 142/200\n",
      "21/21 [==============================] - 0s 5ms/step - loss: 0.0266 - accuracy: 0.9905 - val_loss: 0.0618 - val_accuracy: 0.9778\n",
      "Epoch 143/200\n",
      "21/21 [==============================] - 0s 5ms/step - loss: 0.0273 - accuracy: 0.9905 - val_loss: 0.0644 - val_accuracy: 0.9778\n",
      "Epoch 144/200\n",
      "21/21 [==============================] - 0s 5ms/step - loss: 0.0255 - accuracy: 0.9905 - val_loss: 0.0569 - val_accuracy: 0.9778\n",
      "Epoch 145/200\n",
      "21/21 [==============================] - 0s 8ms/step - loss: 0.0255 - accuracy: 0.9905 - val_loss: 0.0575 - val_accuracy: 0.9778\n",
      "Epoch 146/200\n",
      "21/21 [==============================] - 0s 5ms/step - loss: 0.0265 - accuracy: 0.9905 - val_loss: 0.0550 - val_accuracy: 0.9778\n",
      "Epoch 147/200\n",
      "21/21 [==============================] - 0s 5ms/step - loss: 0.0257 - accuracy: 0.9905 - val_loss: 0.0657 - val_accuracy: 0.9778\n",
      "Epoch 148/200\n",
      "21/21 [==============================] - 0s 5ms/step - loss: 0.0259 - accuracy: 0.9905 - val_loss: 0.0610 - val_accuracy: 0.9778\n",
      "Epoch 149/200\n",
      "21/21 [==============================] - 0s 5ms/step - loss: 0.0248 - accuracy: 0.9905 - val_loss: 0.0625 - val_accuracy: 0.9778\n",
      "Epoch 150/200\n",
      "21/21 [==============================] - 0s 6ms/step - loss: 0.0253 - accuracy: 0.9905 - val_loss: 0.0653 - val_accuracy: 0.9778\n",
      "Epoch 151/200\n",
      "21/21 [==============================] - 0s 7ms/step - loss: 0.0237 - accuracy: 0.9905 - val_loss: 0.0566 - val_accuracy: 0.9778\n",
      "Epoch 152/200\n",
      "21/21 [==============================] - 0s 6ms/step - loss: 0.0241 - accuracy: 0.9905 - val_loss: 0.0625 - val_accuracy: 0.9778\n",
      "Epoch 153/200\n",
      "21/21 [==============================] - 0s 7ms/step - loss: 0.0238 - accuracy: 0.9905 - val_loss: 0.0591 - val_accuracy: 0.9778\n",
      "Epoch 154/200\n",
      "21/21 [==============================] - 0s 5ms/step - loss: 0.0231 - accuracy: 0.9905 - val_loss: 0.0628 - val_accuracy: 0.9778\n",
      "Epoch 155/200\n",
      "21/21 [==============================] - 0s 6ms/step - loss: 0.0239 - accuracy: 0.9905 - val_loss: 0.0679 - val_accuracy: 0.9778\n",
      "Epoch 156/200\n",
      "21/21 [==============================] - 0s 6ms/step - loss: 0.0233 - accuracy: 0.9905 - val_loss: 0.0609 - val_accuracy: 0.9778\n",
      "Epoch 157/200\n",
      "21/21 [==============================] - 0s 5ms/step - loss: 0.0228 - accuracy: 0.9905 - val_loss: 0.0615 - val_accuracy: 0.9778\n",
      "Epoch 158/200\n",
      "21/21 [==============================] - 0s 5ms/step - loss: 0.0232 - accuracy: 0.9905 - val_loss: 0.0628 - val_accuracy: 0.9778\n",
      "Epoch 159/200\n",
      "21/21 [==============================] - 0s 6ms/step - loss: 0.0221 - accuracy: 0.9905 - val_loss: 0.0697 - val_accuracy: 0.9778\n",
      "Epoch 160/200\n",
      "21/21 [==============================] - 0s 6ms/step - loss: 0.0223 - accuracy: 0.9905 - val_loss: 0.0655 - val_accuracy: 0.9778\n",
      "Epoch 161/200\n",
      "21/21 [==============================] - 0s 7ms/step - loss: 0.0219 - accuracy: 0.9905 - val_loss: 0.0620 - val_accuracy: 0.9778\n",
      "Epoch 162/200\n",
      "21/21 [==============================] - 0s 7ms/step - loss: 0.0215 - accuracy: 0.9905 - val_loss: 0.0584 - val_accuracy: 0.9778\n",
      "Epoch 163/200\n",
      "21/21 [==============================] - 0s 6ms/step - loss: 0.0214 - accuracy: 0.9905 - val_loss: 0.0652 - val_accuracy: 0.9778\n",
      "Epoch 164/200\n",
      "21/21 [==============================] - 0s 5ms/step - loss: 0.0221 - accuracy: 0.9905 - val_loss: 0.0675 - val_accuracy: 0.9778\n",
      "Epoch 165/200\n",
      "21/21 [==============================] - 0s 6ms/step - loss: 0.0204 - accuracy: 0.9905 - val_loss: 0.0638 - val_accuracy: 0.9778\n",
      "Epoch 166/200\n",
      "21/21 [==============================] - 0s 6ms/step - loss: 0.0210 - accuracy: 0.9905 - val_loss: 0.0593 - val_accuracy: 0.9778\n",
      "Epoch 167/200\n",
      "21/21 [==============================] - 0s 6ms/step - loss: 0.0213 - accuracy: 1.0000 - val_loss: 0.0647 - val_accuracy: 0.9778\n",
      "Epoch 168/200\n",
      "21/21 [==============================] - 0s 7ms/step - loss: 0.0197 - accuracy: 1.0000 - val_loss: 0.0705 - val_accuracy: 0.9778\n",
      "Epoch 169/200\n",
      "21/21 [==============================] - 0s 5ms/step - loss: 0.0204 - accuracy: 0.9905 - val_loss: 0.0654 - val_accuracy: 0.9778\n",
      "Epoch 170/200\n",
      "21/21 [==============================] - 0s 7ms/step - loss: 0.0207 - accuracy: 0.9905 - val_loss: 0.0611 - val_accuracy: 0.9778\n",
      "Epoch 171/200\n",
      "21/21 [==============================] - 0s 6ms/step - loss: 0.0197 - accuracy: 0.9905 - val_loss: 0.0655 - val_accuracy: 0.9778\n",
      "Epoch 172/200\n"
     ]
    },
    {
     "name": "stdout",
     "output_type": "stream",
     "text": [
      "21/21 [==============================] - 0s 8ms/step - loss: 0.0198 - accuracy: 1.0000 - val_loss: 0.0634 - val_accuracy: 0.9778\n",
      "Epoch 173/200\n",
      "21/21 [==============================] - 0s 6ms/step - loss: 0.0199 - accuracy: 1.0000 - val_loss: 0.0636 - val_accuracy: 0.9778\n",
      "Epoch 174/200\n",
      "21/21 [==============================] - 0s 5ms/step - loss: 0.0186 - accuracy: 1.0000 - val_loss: 0.0692 - val_accuracy: 0.9778\n",
      "Epoch 175/200\n",
      "21/21 [==============================] - 0s 6ms/step - loss: 0.0202 - accuracy: 0.9905 - val_loss: 0.0671 - val_accuracy: 0.9778\n",
      "Epoch 176/200\n",
      "21/21 [==============================] - 0s 6ms/step - loss: 0.0180 - accuracy: 1.0000 - val_loss: 0.0590 - val_accuracy: 0.9778\n",
      "Epoch 177/200\n",
      "21/21 [==============================] - 0s 5ms/step - loss: 0.0187 - accuracy: 1.0000 - val_loss: 0.0588 - val_accuracy: 0.9778\n",
      "Epoch 178/200\n",
      "21/21 [==============================] - 0s 5ms/step - loss: 0.0182 - accuracy: 1.0000 - val_loss: 0.0695 - val_accuracy: 0.9778\n",
      "Epoch 179/200\n",
      "21/21 [==============================] - 0s 6ms/step - loss: 0.0183 - accuracy: 1.0000 - val_loss: 0.0704 - val_accuracy: 0.9778\n",
      "Epoch 180/200\n",
      "21/21 [==============================] - 0s 5ms/step - loss: 0.0182 - accuracy: 0.9905 - val_loss: 0.0681 - val_accuracy: 0.9778\n",
      "Epoch 181/200\n",
      "21/21 [==============================] - 0s 5ms/step - loss: 0.0180 - accuracy: 1.0000 - val_loss: 0.0611 - val_accuracy: 0.9778\n",
      "Epoch 182/200\n",
      "21/21 [==============================] - 0s 5ms/step - loss: 0.0196 - accuracy: 0.9905 - val_loss: 0.0666 - val_accuracy: 0.9778\n",
      "Epoch 183/200\n",
      "21/21 [==============================] - 0s 6ms/step - loss: 0.0179 - accuracy: 1.0000 - val_loss: 0.0611 - val_accuracy: 0.9778\n",
      "Epoch 184/200\n",
      "21/21 [==============================] - 0s 6ms/step - loss: 0.0178 - accuracy: 1.0000 - val_loss: 0.0659 - val_accuracy: 0.9778\n",
      "Epoch 185/200\n",
      "21/21 [==============================] - 0s 5ms/step - loss: 0.0174 - accuracy: 1.0000 - val_loss: 0.0670 - val_accuracy: 0.9778\n",
      "Epoch 186/200\n",
      "21/21 [==============================] - 0s 6ms/step - loss: 0.0168 - accuracy: 1.0000 - val_loss: 0.0637 - val_accuracy: 0.9778\n",
      "Epoch 187/200\n",
      "21/21 [==============================] - 0s 6ms/step - loss: 0.0167 - accuracy: 1.0000 - val_loss: 0.0592 - val_accuracy: 0.9778\n",
      "Epoch 188/200\n",
      "21/21 [==============================] - 0s 5ms/step - loss: 0.0187 - accuracy: 1.0000 - val_loss: 0.0710 - val_accuracy: 0.9778\n",
      "Epoch 189/200\n",
      "21/21 [==============================] - 0s 5ms/step - loss: 0.0162 - accuracy: 1.0000 - val_loss: 0.0629 - val_accuracy: 0.9778\n",
      "Epoch 190/200\n",
      "21/21 [==============================] - 0s 5ms/step - loss: 0.0160 - accuracy: 1.0000 - val_loss: 0.0622 - val_accuracy: 0.9778\n",
      "Epoch 191/200\n",
      "21/21 [==============================] - 0s 6ms/step - loss: 0.0156 - accuracy: 1.0000 - val_loss: 0.0672 - val_accuracy: 0.9778\n",
      "Epoch 192/200\n",
      "21/21 [==============================] - 0s 8ms/step - loss: 0.0169 - accuracy: 0.9905 - val_loss: 0.0697 - val_accuracy: 0.9778\n",
      "Epoch 193/200\n",
      "21/21 [==============================] - 0s 6ms/step - loss: 0.0183 - accuracy: 1.0000 - val_loss: 0.0574 - val_accuracy: 0.9778\n",
      "Epoch 194/200\n",
      "21/21 [==============================] - 0s 5ms/step - loss: 0.0166 - accuracy: 1.0000 - val_loss: 0.0676 - val_accuracy: 0.9778\n",
      "Epoch 195/200\n",
      "21/21 [==============================] - 0s 6ms/step - loss: 0.0162 - accuracy: 1.0000 - val_loss: 0.0607 - val_accuracy: 0.9778\n",
      "Epoch 196/200\n",
      "21/21 [==============================] - 0s 6ms/step - loss: 0.0182 - accuracy: 0.9905 - val_loss: 0.0658 - val_accuracy: 0.9778\n",
      "Epoch 197/200\n",
      "21/21 [==============================] - 0s 5ms/step - loss: 0.0139 - accuracy: 1.0000 - val_loss: 0.0547 - val_accuracy: 0.9778\n",
      "Epoch 198/200\n",
      "21/21 [==============================] - 0s 6ms/step - loss: 0.0167 - accuracy: 1.0000 - val_loss: 0.0564 - val_accuracy: 0.9778\n",
      "Epoch 199/200\n",
      "21/21 [==============================] - 0s 6ms/step - loss: 0.0149 - accuracy: 1.0000 - val_loss: 0.0605 - val_accuracy: 0.9778\n",
      "Epoch 200/200\n",
      "21/21 [==============================] - 0s 6ms/step - loss: 0.0125 - accuracy: 1.0000 - val_loss: 0.0714 - val_accuracy: 0.9778\n"
     ]
    }
   ],
   "source": [
    "history=model.fit(X_train,y_train,epochs=200,batch_size=5,validation_data=(X_test,y_test))"
   ]
  },
  {
   "cell_type": "markdown",
   "metadata": {},
   "source": [
    "# ploting loss and accuracy for every epochs"
   ]
  },
  {
   "cell_type": "code",
   "execution_count": 110,
   "metadata": {},
   "outputs": [
    {
     "data": {
      "image/png": "[encoded data removed]",
      "text/plain": [
       "<Figure size 432x288 with 1 Axes>"
      ]
     },
     "metadata": {
      "needs_background": "light"
     },
     "output_type": "display_data"
    },
    {
     "data": {
      "image/png": "[encoded data removed]",
      "text/plain": [
       "<Figure size 432x288 with 1 Axes>"
      ]
     },
     "metadata": {
      "needs_background": "light"
     },
     "output_type": "display_data"
    }
   ],
   "source": [
    "plt.plot(history.history['accuracy'])\n",
    "plt.plot(history.history['val_accuracy'])\n",
    "plt.title('model accuracy')\n",
    "plt.ylabel('accuracy')\n",
    "plt.xlabel('epoch')\n",
    "plt.legend(['train', 'test'], loc='upper left')\n",
    "plt.show()\n",
    "# summarize history for loss\n",
    "plt.plot(history.history['loss'])\n",
    "plt.plot(history.history['val_loss'])\n",
    "plt.title('model loss')\n",
    "plt.ylabel('loss')\n",
    "plt.xlabel('epoch')\n",
    "plt.legend(['train', 'test'], loc='upper left')\n",
    "plt.show()"
   ]
  },
  {
   "cell_type": "markdown",
   "metadata": {},
   "source": [
    "# Perfomence metrics"
   ]
  },
  {
   "cell_type": "code",
   "execution_count": 111,
   "metadata": {},
   "outputs": [],
   "source": [
    "y_pred=model.predict(X_test)"
   ]
  },
  {
   "cell_type": "code",
   "execution_count": 112,
   "metadata": {},
   "outputs": [],
   "source": [
    "y_pred = (y_pred > 0.5)"
   ]
  },
  {
   "cell_type": "markdown",
   "metadata": {},
   "source": [
    "## Test accuracy"
   ]
  },
  {
   "cell_type": "code",
   "execution_count": 113,
   "metadata": {},
   "outputs": [
    {
     "data": {
      "text/plain": [
       "0.9777777777777777"
      ]
     },
     "execution_count": 113,
     "metadata": {},
     "output_type": "execute_result"
    }
   ],
   "source": [
    "accuracy_score(y_test,y_pred)"
   ]
  },
  {
   "cell_type": "code",
   "execution_count": 117,
   "metadata": {},
   "outputs": [
    {
     "data": {
      "text/plain": [
       "array([[15,  0,  0],\n",
       "       [ 0, 15,  1],\n",
       "       [ 0,  0, 14]], dtype=int64)"
      ]
     },
     "execution_count": 117,
     "metadata": {},
     "output_type": "execute_result"
    }
   ],
   "source": [
    "confusion_matrix(\n",
    "    y_test.values.argmax(axis=1), y_pred.argmax(axis=1))"
   ]
  },
  {
   "cell_type": "markdown",
   "metadata": {},
   "source": [
    "## Test f1 score "
   ]
  },
  {
   "cell_type": "code",
   "execution_count": 120,
   "metadata": {},
   "outputs": [
    {
     "name": "stderr",
     "output_type": "stream",
     "text": [
      "C:\\Users\\Ramu\\anaconda3\\lib\\site-packages\\sklearn\\metrics\\_classification.py:1295: UserWarning: Note that pos_label (set to 'positive') is ignored when average != 'binary' (got 'micro'). You may use labels=[pos_label] to specify a single positive class.\n",
      "  warnings.warn(\"Note that pos_label (set to %r) is ignored when \"\n"
     ]
    },
    {
     "data": {
      "text/plain": [
       "0.9777777777777777"
      ]
     },
     "execution_count": 120,
     "metadata": {},
     "output_type": "execute_result"
    }
   ],
   "source": [
    "f1_score(y_test, y_pred, pos_label='positive',average='micro')"
   ]
  },
  {
   "cell_type": "code",
   "execution_count": 121,
   "metadata": {},
   "outputs": [],
   "source": [
    "y_pred=model.predict(X_train)"
   ]
  },
  {
   "cell_type": "code",
   "execution_count": 122,
   "metadata": {},
   "outputs": [],
   "source": [
    "y_pred = (y_pred > 0.5)"
   ]
  },
  {
   "cell_type": "markdown",
   "metadata": {},
   "source": [
    "## Train accuracy"
   ]
  },
  {
   "cell_type": "code",
   "execution_count": 124,
   "metadata": {},
   "outputs": [
    {
     "data": {
      "text/plain": [
       "1.0"
      ]
     },
     "execution_count": 124,
     "metadata": {},
     "output_type": "execute_result"
    }
   ],
   "source": [
    "accuracy_score(y_train,y_pred)"
   ]
  },
  {
   "cell_type": "code",
   "execution_count": 125,
   "metadata": {},
   "outputs": [
    {
     "data": {
      "text/plain": [
       "array([[35,  0,  0],\n",
       "       [ 0, 34,  0],\n",
       "       [ 0,  0, 36]], dtype=int64)"
      ]
     },
     "execution_count": 125,
     "metadata": {},
     "output_type": "execute_result"
    }
   ],
   "source": [
    "confusion_matrix(\n",
    "    y_train.values.argmax(axis=1), y_pred.argmax(axis=1))"
   ]
  },
  {
   "cell_type": "markdown",
   "metadata": {},
   "source": [
    "## Train f1 score "
   ]
  },
  {
   "cell_type": "code",
   "execution_count": 126,
   "metadata": {},
   "outputs": [
    {
     "name": "stderr",
     "output_type": "stream",
     "text": [
      "C:\\Users\\Ramu\\anaconda3\\lib\\site-packages\\sklearn\\metrics\\_classification.py:1295: UserWarning: Note that pos_label (set to 'positive') is ignored when average != 'binary' (got 'micro'). You may use labels=[pos_label] to specify a single positive class.\n",
      "  warnings.warn(\"Note that pos_label (set to %r) is ignored when \"\n"
     ]
    },
    {
     "data": {
      "text/plain": [
       "1.0"
      ]
     },
     "execution_count": 126,
     "metadata": {},
     "output_type": "execute_result"
    }
   ],
   "source": [
    "f1_score(y_train, y_pred, pos_label='positive',average='micro')"
   ]
  }
 ],
 "metadata": {
  "kernelspec": {
   "display_name": "Python 3",
   "language": "python",
   "name": "python3"
  },
  "language_info": {
   "codemirror_mode": {
    "name": "ipython",
    "version": 3
   },
   "file_extension": ".py",
   "mimetype": "text/x-python",
   "name": "python",
   "nbconvert_exporter": "python",
   "pygments_lexer": "ipython3",
   "version": "3.8.3"
  }
 },
 "nbformat": 4,
 "nbformat_minor": 4
}
